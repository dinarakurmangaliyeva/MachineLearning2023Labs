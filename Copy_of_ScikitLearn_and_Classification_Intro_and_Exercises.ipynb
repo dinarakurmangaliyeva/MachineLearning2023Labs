{
  "nbformat": 4,
  "nbformat_minor": 0,
  "metadata": {
    "colab": {
      "provenance": [],
      "include_colab_link": true
    },
    "kernelspec": {
      "name": "python3",
      "display_name": "Python 3"
    },
    "language_info": {
      "name": "python"
    }
  },
  "cells": [
    {
      "cell_type": "markdown",
      "metadata": {
        "id": "view-in-github",
        "colab_type": "text"
      },
      "source": [
        "<a href=\"https://colab.research.google.com/github/dinarakurmangaliyeva/MachineLearning2023Labs/blob/main/Copy_of_ScikitLearn_and_Classification_Intro_and_Exercises.ipynb\" target=\"_parent\"><img src=\"https://colab.research.google.com/assets/colab-badge.svg\" alt=\"Open In Colab\"/></a>"
      ]
    },
    {
      "cell_type": "markdown",
      "metadata": {
        "id": "IoYYpizuMiwJ"
      },
      "source": [
        "#Lab 2: Introduction to ScikitLearn and Classification Tasks\n",
        "\n",
        "During this Lab, we aim to achieve the following:\n",
        "\n",
        "\n",
        "*   familiarize with <a href=\"https://scikit-learn.org/stable/\"> scikit-learn </a>, an essential python library in data science;\n",
        "*   learn how to approach a classification task with scikit-learn.\n",
        "\n",
        "In this notebook, we learn to use Scikit-Learn with a practical example and then, in the second part, we will test our knowledge by doing some exercises. We will use version 1.2.2 of Scikit.\n",
        "\n"
      ]
    },
    {
      "cell_type": "code",
      "source": [
        "# SETUP\n",
        "# install python at version 3.10\n",
        "!apt-get install python3.10\n",
        "\n",
        "# update symbolic links to the newly installed python version\n",
        "!ln -sf /usr/bin/python3.10 /usr/bin/python\n",
        "!ln -sf /usr/bin/python3.10 /usr/bin/python3\n",
        "\n",
        "# install numpy 1.23.5\n",
        "%pip install numpy==1.23.5\n",
        "# install scikit-learn 1.2.2\n",
        "%pip install scikit-learn==1.2.2"
      ],
      "metadata": {
        "id": "9qz9Qy3aTVYw",
        "colab": {
          "base_uri": "https://localhost:8080/"
        },
        "outputId": "3ee43689-a577-4486-c1c6-8772d4a0bd0a"
      },
      "execution_count": null,
      "outputs": [
        {
          "output_type": "stream",
          "name": "stdout",
          "text": [
            "Reading package lists... Done\n",
            "Building dependency tree... Done\n",
            "Reading state information... Done\n",
            "python3.10 is already the newest version (3.10.12-1~22.04.2).\n",
            "0 upgraded, 0 newly installed, 0 to remove and 9 not upgraded.\n",
            "Requirement already satisfied: numpy==1.23.5 in /usr/local/lib/python3.10/dist-packages (1.23.5)\n",
            "Requirement already satisfied: scikit-learn==1.2.2 in /usr/local/lib/python3.10/dist-packages (1.2.2)\n",
            "Requirement already satisfied: numpy>=1.17.3 in /usr/local/lib/python3.10/dist-packages (from scikit-learn==1.2.2) (1.23.5)\n",
            "Requirement already satisfied: scipy>=1.3.2 in /usr/local/lib/python3.10/dist-packages (from scikit-learn==1.2.2) (1.11.3)\n",
            "Requirement already satisfied: joblib>=1.1.1 in /usr/local/lib/python3.10/dist-packages (from scikit-learn==1.2.2) (1.3.2)\n",
            "Requirement already satisfied: threadpoolctl>=2.0.0 in /usr/local/lib/python3.10/dist-packages (from scikit-learn==1.2.2) (3.2.0)\n"
          ]
        }
      ]
    },
    {
      "cell_type": "markdown",
      "metadata": {
        "id": "YssOU-ZhNczi"
      },
      "source": [
        "# Part 1: A Classification Example With Scikit-Learn\n",
        "\n",
        "We start our lab by implementing the *perceptron* using  scikit-learn."
      ]
    },
    {
      "cell_type": "code",
      "metadata": {
        "id": "02sO8JSRMXXZ"
      },
      "source": [
        "import numpy as np\n",
        "import matplotlib.pyplot as plt\n",
        "from sklearn import datasets"
      ],
      "execution_count": null,
      "outputs": []
    },
    {
      "cell_type": "code",
      "metadata": {
        "id": "lhTmIt8NN0ur"
      },
      "source": [
        "X_toy, y_toy = datasets.make_blobs(n_samples=150,n_features=2,\n",
        "                           centers=2,cluster_std=1.05,\n",
        "                           random_state=123)\n",
        "y_toy[y_toy==0]=-1"
      ],
      "execution_count": null,
      "outputs": []
    },
    {
      "cell_type": "markdown",
      "metadata": {
        "id": "0q2QIo9EPe7h"
      },
      "source": [
        "We can now define our classifier: a perceptron <a href=\"https://scikit-learn.org/stable/modules/generated/sklearn.linear_model.Perceptron.html\"> [link] </a>."
      ]
    },
    {
      "cell_type": "code",
      "metadata": {
        "id": "RYjwdbMaPvsX"
      },
      "source": [
        "from sklearn.linear_model import Perceptron\n",
        "\n",
        "# we define two peceptrons: one with and one without intercept estimation (our theta_0)\n",
        "clf1 = Perceptron(fit_intercept = False)\n",
        "clf2 = Perceptron(fit_intercept = True)"
      ],
      "execution_count": null,
      "outputs": []
    },
    {
      "cell_type": "code",
      "source": [
        "y_toy"
      ],
      "metadata": {
        "colab": {
          "base_uri": "https://localhost:8080/"
        },
        "id": "ng7CO9u9-VBn",
        "outputId": "463610b4-c086-4aaa-a8ab-4b8757762821"
      },
      "execution_count": null,
      "outputs": [
        {
          "output_type": "execute_result",
          "data": {
            "text/plain": [
              "array([-1,  1, -1, -1,  1, -1,  1, -1,  1,  1, -1,  1,  1, -1, -1, -1, -1,\n",
              "       -1, -1,  1, -1,  1, -1, -1,  1,  1,  1, -1, -1, -1, -1,  1, -1,  1,\n",
              "        1, -1, -1,  1,  1, -1, -1, -1, -1,  1, -1,  1,  1, -1,  1,  1,  1,\n",
              "        1,  1,  1,  1,  1, -1, -1, -1,  1,  1,  1,  1, -1,  1,  1,  1, -1,\n",
              "       -1,  1,  1, -1,  1, -1, -1, -1, -1, -1, -1, -1,  1, -1,  1, -1,  1,\n",
              "       -1,  1, -1,  1,  1, -1, -1, -1, -1, -1,  1,  1, -1,  1, -1, -1,  1,\n",
              "        1, -1,  1, -1,  1, -1, -1,  1, -1, -1,  1, -1, -1, -1, -1, -1,  1,\n",
              "        1, -1,  1,  1, -1,  1,  1,  1,  1,  1,  1, -1,  1, -1,  1, -1,  1,\n",
              "       -1,  1, -1,  1,  1, -1, -1,  1,  1,  1, -1,  1,  1,  1])"
            ]
          },
          "metadata": {},
          "execution_count": 5
        }
      ]
    },
    {
      "cell_type": "markdown",
      "metadata": {
        "id": "-N6MC_b2QJ_K"
      },
      "source": [
        "Sklearn defines standard functions for models, like *fit* and *predict*."
      ]
    },
    {
      "cell_type": "code",
      "metadata": {
        "id": "S4qlKvhrQQnV"
      },
      "source": [
        "#train phase\n",
        "clf1.fit(X_toy, y_toy)\n",
        "clf2.fit(X_toy, y_toy)\n",
        "\n",
        "#estimation (y_hat)\n",
        "y_pred_clf1 = clf1.predict(X_toy)\n",
        "y_pred_clf2 = clf2.predict(X_toy)\n"
      ],
      "execution_count": null,
      "outputs": []
    },
    {
      "cell_type": "markdown",
      "metadata": {
        "id": "G7v6JjDVQnLH"
      },
      "source": [
        "How to evaluate our models' performance? <br>\n",
        "Scikit-learn offers a broad set of evaluation functions already implemented <a href = \"https://scikit-learn.org/stable/modules/classes.html#module-sklearn.metrics\">[link]</a>."
      ]
    },
    {
      "cell_type": "code",
      "metadata": {
        "id": "W3wse3MyQmp7",
        "colab": {
          "base_uri": "https://localhost:8080/"
        },
        "outputId": "c1eb1005-13d0-4297-d50d-80388c42fa86"
      },
      "source": [
        "from sklearn.metrics import accuracy_score\n",
        "\n",
        "print(f\"CLF1 -- no intercept.\\tACC: {accuracy_score(y_toy, y_pred_clf1)}\")\n",
        "print(f\"CLF2 -- with intercept.\\tACC: {accuracy_score(y_toy, y_pred_clf2)}\")"
      ],
      "execution_count": null,
      "outputs": [
        {
          "output_type": "stream",
          "name": "stdout",
          "text": [
            "CLF1 -- no intercept.\tACC: 1.0\n",
            "CLF2 -- with intercept.\tACC: 1.0\n"
          ]
        }
      ]
    },
    {
      "cell_type": "markdown",
      "metadata": {
        "id": "zpjsDkvVN_vD"
      },
      "source": [
        "## Model Selection\n",
        "When defining or training a model, we have the so called *hyperparameters*, i.e., different settings to configure for our training strategy.  <br>\n",
        "The question is: *how can we decide the best configuration setting for the task?* <br>\n",
        "The answer is the usage of *training* and *validation* partitions. <br>\n",
        "We can use sklearn to do that: https://scikit-learn.org/stable/modules/generated/sklearn.model_selection.train_test_split.html."
      ]
    },
    {
      "cell_type": "code",
      "metadata": {
        "id": "u53o2430OsJG",
        "colab": {
          "base_uri": "https://localhost:8080/"
        },
        "outputId": "78e246d3-9062-41cf-cdea-cb63298c3372"
      },
      "source": [
        "from sklearn.model_selection import train_test_split\n",
        "\n",
        "X_train, X_val, y_train, y_val = train_test_split(X_toy, y_toy,\n",
        "                                                  train_size = 0.8, random_state = 123)\n",
        "\n",
        "print(f\"Original size = {X_toy.shape[0]}\\tTrain size = {X_train.shape[0]}\\tVal size = {X_val.shape[0]}\")  # alternative way to use the print when there are\n",
        "                                                                                                          # variables and text to print together"
      ],
      "execution_count": null,
      "outputs": [
        {
          "output_type": "stream",
          "name": "stdout",
          "text": [
            "Original size = 150\tTrain size = 120\tVal size = 30\n"
          ]
        }
      ]
    },
    {
      "cell_type": "code",
      "source": [
        "X_train"
      ],
      "metadata": {
        "colab": {
          "base_uri": "https://localhost:8080/"
        },
        "id": "I5eCs5HFIFE7",
        "outputId": "2badb932-97c1-4ee3-f1a2-19dc5e208729"
      },
      "execution_count": null,
      "outputs": [
        {
          "output_type": "execute_result",
          "data": {
            "text/plain": [
              "array([[ 5.26004729e+00, -3.92781007e+00],\n",
              "       [-4.79523109e+00,  1.32512856e+00],\n",
              "       [ 3.21655325e+00, -4.37665772e+00],\n",
              "       [ 6.12085274e+00, -4.10455001e+00],\n",
              "       [-5.03973067e+00,  2.57182122e+00],\n",
              "       [ 4.51375985e+00, -4.49989743e+00],\n",
              "       [-4.76403482e+00,  8.29512940e-02],\n",
              "       [ 5.98676562e+00, -6.40351135e+00],\n",
              "       [ 3.90352643e+00, -4.24136407e+00],\n",
              "       [-4.88142195e+00,  4.69087094e-01],\n",
              "       [-5.20050249e+00,  3.27213956e-03],\n",
              "       [ 3.66098337e+00, -7.21573186e+00],\n",
              "       [-6.24082539e+00,  1.10284799e+00],\n",
              "       [-6.53360875e+00,  1.20263479e+00],\n",
              "       [ 3.11803956e+00, -3.44260750e+00],\n",
              "       [ 6.44136724e+00, -3.84365553e+00],\n",
              "       [ 3.59888766e+00, -5.41741082e+00],\n",
              "       [-5.82129573e+00,  7.97451806e-01],\n",
              "       [-7.48287244e+00,  1.75687207e+00],\n",
              "       [-5.15755282e+00,  1.31994119e+00],\n",
              "       [ 3.97714830e+00, -4.52195997e+00],\n",
              "       [ 3.08374887e+00, -6.09126627e+00],\n",
              "       [-5.46940739e+00,  8.59087912e-01],\n",
              "       [-4.13511438e+00, -4.64928267e-01],\n",
              "       [ 4.40846815e+00, -2.65544163e+00],\n",
              "       [-3.99785035e+00,  6.49412659e-01],\n",
              "       [ 5.67338382e+00, -3.42953971e+00],\n",
              "       [-3.98418333e+00,  3.87149038e-01],\n",
              "       [-4.83919716e+00,  8.17227380e-01],\n",
              "       [ 3.57762241e+00, -3.19454312e+00],\n",
              "       [ 4.37683768e+00, -5.96289353e+00],\n",
              "       [-5.29439929e+00,  1.88704402e+00],\n",
              "       [-6.17954441e+00, -7.50359654e-01],\n",
              "       [-6.56441219e+00,  9.47418764e-01],\n",
              "       [-5.36483706e+00,  2.55886411e+00],\n",
              "       [ 5.14969796e+00, -5.42927650e+00],\n",
              "       [ 3.51893893e+00, -3.67471715e+00],\n",
              "       [-4.18303577e+00,  1.46748396e+00],\n",
              "       [-4.85445223e+00,  1.63496965e+00],\n",
              "       [ 4.42744837e+00, -4.86933343e+00],\n",
              "       [-5.14021750e+00,  3.84508774e-01],\n",
              "       [ 3.15740591e+00, -3.75090186e+00],\n",
              "       [-5.55381933e+00,  6.52229582e-02],\n",
              "       [-5.44163913e+00,  8.22633318e-01],\n",
              "       [-3.49338035e+00,  1.46277465e+00],\n",
              "       [ 3.78231156e+00, -5.18205594e+00],\n",
              "       [-6.77672030e+00, -2.17248324e-01],\n",
              "       [-6.59147585e+00,  1.72802809e+00],\n",
              "       [-5.43184586e+00,  4.13285210e+00],\n",
              "       [ 6.24561030e+00, -1.98108791e+00],\n",
              "       [-6.37167481e+00, -4.17126988e-01],\n",
              "       [-5.25340971e+00,  8.93871720e-01],\n",
              "       [ 5.25861678e+00, -5.18729072e+00],\n",
              "       [-6.37279089e+00,  3.26147497e-01],\n",
              "       [ 3.16029863e+00, -5.55036259e+00],\n",
              "       [ 4.67726158e+00, -1.54899418e+00],\n",
              "       [-6.84960364e+00,  3.23195852e-01],\n",
              "       [-3.15223372e+00,  1.74900716e+00],\n",
              "       [-5.72043444e+00,  6.46573453e-01],\n",
              "       [-6.73702495e+00, -3.66516793e-01],\n",
              "       [-5.27691898e+00,  9.94828974e-01],\n",
              "       [ 2.06927395e+00, -5.01208440e+00],\n",
              "       [ 1.70012834e+00, -3.18549986e+00],\n",
              "       [ 4.11947060e+00, -3.04045827e+00],\n",
              "       [ 3.00587055e+00, -3.97940461e+00],\n",
              "       [ 4.42124479e+00, -5.14992603e+00],\n",
              "       [ 4.86462542e+00, -2.43458281e+00],\n",
              "       [ 5.13709953e+00, -5.60793295e+00],\n",
              "       [ 4.98364030e+00, -3.87171758e+00],\n",
              "       [ 5.41754771e+00, -3.42961494e+00],\n",
              "       [ 3.32185345e+00, -2.54320494e+00],\n",
              "       [-4.37886723e+00,  8.22235519e-01],\n",
              "       [-4.52210970e+00,  1.41439595e+00],\n",
              "       [ 2.48988782e+00, -4.62631234e+00],\n",
              "       [ 4.90321927e+00, -4.45953077e+00],\n",
              "       [ 5.24738296e+00, -5.00052573e+00],\n",
              "       [ 4.95705652e+00, -1.92716280e+00],\n",
              "       [-4.65966334e+00,  1.55857106e-01],\n",
              "       [ 1.38137051e+00, -4.72757156e+00],\n",
              "       [ 4.25936931e+00, -5.66979203e+00],\n",
              "       [ 5.52419262e+00, -4.64891342e+00],\n",
              "       [ 4.19589101e+00, -3.97930168e+00],\n",
              "       [-4.01685057e+00,  8.75960609e-01],\n",
              "       [-6.15507980e+00,  1.66797511e+00],\n",
              "       [ 3.46320265e+00, -4.73328214e+00],\n",
              "       [ 2.57059412e+00, -5.36794092e+00],\n",
              "       [ 3.48032013e+00, -2.97220027e+00],\n",
              "       [ 2.44690039e+00, -6.24792539e+00],\n",
              "       [-6.03933736e+00, -6.65209731e-04],\n",
              "       [-4.68315040e+00,  9.41682999e-01],\n",
              "       [ 2.94675815e+00, -3.04259280e+00],\n",
              "       [-5.56293359e+00,  1.31891307e+00],\n",
              "       [-4.84273150e+00,  1.14735904e+00],\n",
              "       [-5.46959354e+00,  8.09299963e-01],\n",
              "       [ 4.72838057e+00, -3.93757101e+00],\n",
              "       [-6.16552869e+00,  2.71909808e+00],\n",
              "       [ 4.60354114e+00, -6.35399563e+00],\n",
              "       [ 3.13512464e+00, -3.93944240e+00],\n",
              "       [-5.72212749e+00,  1.09852313e+00],\n",
              "       [-5.83562520e+00,  3.09630320e-01],\n",
              "       [ 3.04999115e+00, -5.96347420e+00],\n",
              "       [-5.75159235e+00, -4.60590983e-01],\n",
              "       [ 2.88219617e+00, -5.43225857e+00],\n",
              "       [-4.42333139e+00,  6.54853331e-01],\n",
              "       [ 4.99275972e+00, -3.98453540e+00],\n",
              "       [ 4.78234211e+00, -3.75248615e+00],\n",
              "       [ 5.76028155e+00, -5.11517917e+00],\n",
              "       [ 3.63980840e+00, -4.85692678e+00],\n",
              "       [-7.19935366e+00,  2.34229813e+00],\n",
              "       [ 4.28490222e+00, -4.28963532e+00],\n",
              "       [-3.50689696e+00,  1.90310707e+00],\n",
              "       [ 5.49534282e+00, -4.94806040e+00],\n",
              "       [ 3.06478074e+00, -4.14048760e+00],\n",
              "       [-4.45934696e+00,  1.04801116e-01],\n",
              "       [ 4.05616844e+00, -3.49158690e+00],\n",
              "       [ 3.93237192e+00, -3.55457945e+00],\n",
              "       [-7.05698430e+00,  5.42048598e-01],\n",
              "       [-5.74572909e+00,  9.09902125e-01],\n",
              "       [-5.00530137e+00,  6.91390543e-01],\n",
              "       [-6.76219180e+00,  1.15655407e+00]])"
            ]
          },
          "metadata": {},
          "execution_count": 9
        }
      ]
    },
    {
      "cell_type": "markdown",
      "metadata": {
        "id": "SK6pa1LuRlgR"
      },
      "source": [
        "# Part 2: Exercises"
      ]
    },
    {
      "cell_type": "markdown",
      "metadata": {
        "id": "rfmw2jjz4g_M"
      },
      "source": [
        "### Ex 2.1 Logistic Regression\n",
        "\n",
        "**Ex 2.1.1** Use Scikit-Learn to train a <a href=\"https://scikit-learn.org/stable/modules/generated/sklearn.linear_model.LogisticRegression.html\">Logistic Regression</a> classifier with default parameters over the previously defined dataset (Lab introduction). <br>\n",
        "Compute the accuracy in both training and validation sets."
      ]
    },
    {
      "cell_type": "code",
      "metadata": {
        "id": "E8uueqGGSBJd",
        "colab": {
          "base_uri": "https://localhost:8080/"
        },
        "outputId": "df7fcfe2-0d18-42b6-d8a3-7c05f7359dfc"
      },
      "source": [
        "from math import lgamma\n",
        "#\n",
        "# Ex 2.1.1: complete here\n",
        "#\n",
        "from sklearn.linear_model import LogisticRegression\n",
        "\n",
        "clf = LogisticRegression(random_state=123).fit(X_train, y_train)\n",
        "\n",
        "lg_predict_val = clf.predict(X_val)\n",
        "lg_predict_train = clf.predict(X_train)\n",
        "\n",
        "\n",
        "print(f\"CLF1 -- no intercept.\\tACC: {accuracy_score(y_val, lg_predict_val)}\")\n",
        "print(f\"CLF1 -- no intercept.\\tACC: {accuracy_score(y_train, lg_predict_train)}\")\n"
      ],
      "execution_count": null,
      "outputs": [
        {
          "output_type": "stream",
          "name": "stdout",
          "text": [
            "CLF1 -- no intercept.\tACC: 1.0\n",
            "CLF1 -- no intercept.\tACC: 1.0\n"
          ]
        }
      ]
    },
    {
      "cell_type": "markdown",
      "metadata": {
        "id": "iwnRlnJITqat"
      },
      "source": [
        "### Ex 2.2 Logistic Regression (2)\n",
        "\n",
        "We ask you again to work on a classification task. <br>\n",
        "This time, the classification is more challenging.\n",
        "The dataset is called *sonar*."
      ]
    },
    {
      "cell_type": "code",
      "metadata": {
        "id": "RPaGZnJTTzYH"
      },
      "source": [
        "import pandas as pd\n",
        "url = 'https://raw.githubusercontent.com/jbrownlee/Datasets/master/sonar.csv'\n",
        "ds = pd.read_csv(url, header = None)\n",
        "\n",
        "# split into input and output elements\n",
        "data = ds.values\n",
        "X_sonar, y_sonar = data[:, :-1], data[:, -1]"
      ],
      "execution_count": null,
      "outputs": []
    },
    {
      "cell_type": "markdown",
      "metadata": {
        "id": "YqKEmbmmUbRx"
      },
      "source": [
        "**EX 2.2.1** Print the shapes of our arrays $X$ and $y$."
      ]
    },
    {
      "cell_type": "code",
      "metadata": {
        "id": "9jOf6l35UwUM",
        "colab": {
          "base_uri": "https://localhost:8080/"
        },
        "outputId": "0df5eb19-0a7f-4060-e2c8-d2edb5961cb5"
      },
      "source": [
        "#\n",
        "# Ex 2.2.1: complete here\n",
        "#\n",
        "print(X_sonar.shape)\n",
        "print(y_sonar.shape)"
      ],
      "execution_count": null,
      "outputs": [
        {
          "output_type": "stream",
          "name": "stdout",
          "text": [
            "(208, 60)\n",
            "(208,)\n"
          ]
        }
      ]
    },
    {
      "cell_type": "markdown",
      "metadata": {
        "id": "S_8KkpEiVDH2"
      },
      "source": [
        "It's time to partition our dataset. <br>\n",
        "We ask you to create three partitions:\n",
        "\n",
        "\n",
        "*   *train set* : a set of samples used to train a model.\n",
        "*   *val set*: a set of samples used to decide the best model.\n",
        "*   *test set*: a set of samples used to see our best model performance."
      ]
    },
    {
      "cell_type": "markdown",
      "metadata": {
        "id": "i3Cl4DNbISPc"
      },
      "source": [
        "We now first split samples that we can use in our training (train and val), from samples that we cannot touch (test). <br>\n",
        "**EX 2.2.2** Create a split between train_val and test, by maintaining the 25% of samples in the test set."
      ]
    },
    {
      "cell_type": "code",
      "metadata": {
        "id": "piMMVXyBVPXy",
        "colab": {
          "base_uri": "https://localhost:8080/"
        },
        "outputId": "badc4002-1bb3-45fb-ad1d-2391f93767f2"
      },
      "source": [
        "#\n",
        "# Ex 2.2.2: complete here\n",
        "#\n",
        "X_train_val, X_test, y_train_val, y_test = train_test_split(X_sonar, y_sonar,\n",
        "                                                  train_size = 0.75, random_state = 123)\n",
        "print(f\"Original size = {X_sonar.shape[0]}\\tTrainval size = {X_train_val.shape[0]}\\tTest size = {X_test.shape[0]}\")"
      ],
      "execution_count": null,
      "outputs": [
        {
          "output_type": "stream",
          "name": "stdout",
          "text": [
            "Original size = 208\tTrainval size = 156\tTest size = 52\n"
          ]
        }
      ]
    },
    {
      "cell_type": "markdown",
      "metadata": {
        "id": "puQHU1EiI5lW"
      },
      "source": [
        "**EX 2.2.3** From the train_val variables, split train and validation sets. Maintain the 10% of samples in the validation.\n"
      ]
    },
    {
      "cell_type": "code",
      "metadata": {
        "id": "PK3dVG5VJJcW",
        "colab": {
          "base_uri": "https://localhost:8080/"
        },
        "outputId": "1c5c5ba4-c141-42e2-8b25-f1e870c74a62"
      },
      "source": [
        "#\n",
        "# Ex 2.2.3: complete here\n",
        "#\n",
        "X_train, X_val, y_train, y_val = train_test_split(X_train_val, y_train_val,\n",
        "                                                  train_size = 0.90, random_state = 123)\n",
        "print(f\"Original size = {X_train_val.shape[0]}\\tTrain size = {X_train.shape[0]}\\tVal size = {X_val.shape[0]}\")"
      ],
      "execution_count": null,
      "outputs": [
        {
          "output_type": "stream",
          "name": "stdout",
          "text": [
            "Original size = 156\tTrain size = 140\tVal size = 16\n"
          ]
        }
      ]
    },
    {
      "cell_type": "code",
      "source": [
        "print(X_train.shape, X_val.shape, X_test.shape)"
      ],
      "metadata": {
        "id": "wj6e3dg3MyM6",
        "colab": {
          "base_uri": "https://localhost:8080/"
        },
        "outputId": "cd882e4f-e21d-4e0d-82c5-adea8f3f4aa6"
      },
      "execution_count": null,
      "outputs": [
        {
          "output_type": "stream",
          "name": "stdout",
          "text": [
            "(140, 60) (16, 60) (52, 60)\n"
          ]
        }
      ]
    },
    {
      "cell_type": "code",
      "source": [
        "X_train.shape"
      ],
      "metadata": {
        "colab": {
          "base_uri": "https://localhost:8080/"
        },
        "id": "5ESWio8jHwoe",
        "outputId": "c6088380-beb6-4997-8084-b37b07750295"
      },
      "execution_count": null,
      "outputs": [
        {
          "output_type": "execute_result",
          "data": {
            "text/plain": [
              "(140, 60)"
            ]
          },
          "metadata": {},
          "execution_count": 16
        }
      ]
    },
    {
      "cell_type": "markdown",
      "metadata": {
        "id": "cHh4F6EonDL4"
      },
      "source": [
        "Sklearn uses a different name for the hyperparameter $\\lambda$, can you recognise it in the documentation from its description? What is the default value for the parameter? What is its relationship with $\\lambda$?\n",
        "\n",
        "**EX 2.2.4** Train and evaluate (using accuracy) a logistic regression with the default value for the hyperparameter. Do the evaluation **only** on the training and validation partitions."
      ]
    },
    {
      "cell_type": "code",
      "metadata": {
        "id": "8pVIcHmWVphu",
        "colab": {
          "base_uri": "https://localhost:8080/"
        },
        "outputId": "7fbcd409-3e2d-47c3-aca6-ebf63822d57d"
      },
      "source": [
        "#\n",
        "# Ex 2.2.4: complete here\n",
        "#\n",
        "clf_sonar = LogisticRegression(random_state=123).fit(X_train, y_train)\n",
        "\n",
        "sonar_predict_train = clf_sonar.predict(X_train)\n",
        "sonar_predict_val = clf_sonar.predict(X_val)\n",
        "\n",
        "print(f\"CLF1 -- no intercept.\\tACC: {accuracy_score(y_val, sonar_predict_val)}\")\n",
        "print(f\"CLF1 -- no intercept.\\tACC: {accuracy_score(y_train, sonar_predict_train)}\")\n",
        "\n"
      ],
      "execution_count": null,
      "outputs": [
        {
          "output_type": "stream",
          "name": "stdout",
          "text": [
            "CLF1 -- no intercept.\tACC: 0.75\n",
            "CLF1 -- no intercept.\tACC: 0.8714285714285714\n"
          ]
        }
      ]
    },
    {
      "cell_type": "markdown",
      "metadata": {
        "id": "uRwSJs1gVsPk"
      },
      "source": [
        "This time we do not reach the 100% of accuracy in both training and validation set. <br>\n",
        "A good strategy is to apply a grid-search, i.e., find a sub-optimal hyperparameters. <br>\n",
        "We now ask you to manually implement a grid-search for *C*, an hyperparameter of the model. <br>\n",
        "See the documentation <a href=\"https://scikit-learn.org/stable/modules/generated/sklearn.linear_model.LogisticRegression.html\"> [link] </a>. <br>\n",
        "**EX 2.2.5**  We ask you to find the best *C* among the following: $C = [0.001, 0.01, 0.1, 1., 10]$."
      ]
    },
    {
      "cell_type": "code",
      "metadata": {
        "id": "mloaRMsPWg0I"
      },
      "source": [
        "#\n",
        "# Ex 2.2.5: complete here\n",
        "#\n",
        "C = [0.001, 0.01, 0.1, 1., 10, 100]"
      ],
      "execution_count": null,
      "outputs": []
    },
    {
      "cell_type": "code",
      "source": [
        "for c in C:\n",
        "  clf_sonar = LogisticRegression(C=c, max_iter=200)\n",
        "  clf_sonar.fit(X_train, y_train)\n",
        "\n",
        "  y_train_pred = clf_sonar.predict(X_train)\n",
        "  y_val_pred = clf_sonar.predict(X_val)\n",
        "  train_acc = accuracy_score(y_train,y_train_pred)\n",
        "  val_acc = accuracy_score(y_val, y_val_pred)\n",
        "\n",
        "  print(f\"LR. C= {c}.\\tTrain ACC: {train_acc}\\tVal Acc: {val_acc}\")"
      ],
      "metadata": {
        "colab": {
          "base_uri": "https://localhost:8080/"
        },
        "id": "GwjgIHwWNcEk",
        "outputId": "a8ada576-d551-4615-991d-3343664d982b"
      },
      "execution_count": null,
      "outputs": [
        {
          "output_type": "stream",
          "name": "stdout",
          "text": [
            "LR. C= 0.001.\tTrain ACC: 0.55\tVal Acc: 0.3125\n",
            "LR. C= 0.01.\tTrain ACC: 0.5857142857142857\tVal Acc: 0.3125\n",
            "LR. C= 0.1.\tTrain ACC: 0.75\tVal Acc: 0.5\n",
            "LR. C= 1.0.\tTrain ACC: 0.8714285714285714\tVal Acc: 0.75\n",
            "LR. C= 10.\tTrain ACC: 0.8785714285714286\tVal Acc: 0.75\n",
            "LR. C= 100.\tTrain ACC: 0.9357142857142857\tVal Acc: 0.75\n"
          ]
        }
      ]
    },
    {
      "cell_type": "markdown",
      "metadata": {
        "id": "Dxp8zprVXIdL"
      },
      "source": [
        "**Ex 2.2.6** The default parameter seems to work fine. <br>\n",
        "We might want to extend the search in a smaller range: $C=[0.1, 0.5, 1, 5, 10, 15, 20] $"
      ]
    },
    {
      "cell_type": "code",
      "source": [],
      "metadata": {
        "id": "XAD470wSNbfl"
      },
      "execution_count": null,
      "outputs": []
    },
    {
      "cell_type": "code",
      "metadata": {
        "id": "0xckj-5IXZxE",
        "colab": {
          "base_uri": "https://localhost:8080/"
        },
        "outputId": "a2f52df8-419b-4707-e22c-91365bb21a95"
      },
      "source": [
        "#\n",
        "# Ex 2.2.6: complete here\n",
        "#\n",
        "C=[0.1, 0.5, 1, 5, 10, 15, 20]\n",
        "for c in C:\n",
        "  clf_sonar = LogisticRegression(C=c, max_iter=200)\n",
        "  clf_sonar.fit(X_train, y_train)\n",
        "\n",
        "  y_train_pred = clf_sonar.predict(X_train)\n",
        "  y_val_pred = clf_sonar.predict(X_val)\n",
        "  train_acc = accuracy_score(y_train,y_train_pred)\n",
        "  val_acc = accuracy_score(y_val, y_val_pred)\n",
        "\n",
        "  print(f\"LR. C= {c}.\\tTrain ACC: {train_acc}\\tVal Acc: {val_acc}\")"
      ],
      "execution_count": null,
      "outputs": [
        {
          "output_type": "stream",
          "name": "stdout",
          "text": [
            "LR. C= 0.1.\tTrain ACC: 0.75\tVal Acc: 0.5\n",
            "LR. C= 0.5.\tTrain ACC: 0.8428571428571429\tVal Acc: 0.6875\n",
            "LR. C= 1.\tTrain ACC: 0.8714285714285714\tVal Acc: 0.75\n",
            "LR. C= 5.\tTrain ACC: 0.8714285714285714\tVal Acc: 0.75\n",
            "LR. C= 10.\tTrain ACC: 0.8785714285714286\tVal Acc: 0.75\n",
            "LR. C= 15.\tTrain ACC: 0.8928571428571429\tVal Acc: 0.75\n",
            "LR. C= 20.\tTrain ACC: 0.9\tVal Acc: 0.75\n"
          ]
        }
      ]
    },
    {
      "cell_type": "markdown",
      "metadata": {
        "id": "cfbEDDN2Xni3"
      },
      "source": [
        "There is no much difference, but we find sub-optimal values with $C= [1, 5, 10, 15, 20$]. <br>\n",
        "Note that while the training performance vary, the validation set is the same between these five values.   "
      ]
    },
    {
      "cell_type": "markdown",
      "metadata": {
        "id": "qgfoeKfaYBvV"
      },
      "source": [
        "In the official documentation, we find several hyperparameters we can tune. <br>\n",
        "For example, you might want to see what happen when we do not fit the intercept. To do so, we should try both combinations (i.e., true and false) for the parameters, but by combining all the possible C we found up to now. <br>\n",
        "Since we use 7 possible values for $C$ and 2 for *fit\\_intercept*, the total number of trials are $7 * 2 = 14$. <br>\n",
        "Python-related speaking, this is translated into an inner loop, i.e., a loop inside a loop:\n",
        "\n",
        "    for c in [0.1, 0.5, 1, 5, 10, 15, 20]:\n",
        "        for fi in [True, False]:\n",
        "            #here we train and test our model\n",
        "\n",
        "If we want to find the sub-optimal among three hyper-parameters, we must add another innner loop. If we have 10 hyper-parameters, we'll have 10 inner loops! <br>\n",
        "For now, we can do it manually.\n",
        "\n",
        "**Ex 2.2.7** Find the sub-optimal values using the validation performance."
      ]
    },
    {
      "cell_type": "code",
      "metadata": {
        "id": "7WfZkiv8dKnM",
        "colab": {
          "base_uri": "https://localhost:8080/"
        },
        "outputId": "910151cc-b6e0-478c-fa78-b6b9afead5b4"
      },
      "source": [
        "#\n",
        "# Ex 2.2.7: complete here\n",
        "#\n",
        "\n",
        "C=[0.1, 0.5, 1, 5, 10, 15, 20]\n",
        "FI = [True, False]\n",
        "best_C = None\n",
        "best_fi = None\n",
        "best_train_acc=0.\n",
        "best_val_acc = 0.\n",
        "\n",
        "\n",
        "for c in C:\n",
        "  for fi in FI:\n",
        "    clf_sonar = LogisticRegression(C=c, fit_intercept=fi)\n",
        "    clf_sonar.fit(X_train, y_train)\n",
        "\n",
        "    y_train_pred = clf_sonar.predict(X_train)\n",
        "    y_val_pred = clf_sonar.predict(X_val)\n",
        "    train_acc = accuracy_score(y_train,y_train_pred)\n",
        "    val_acc = accuracy_score(y_val, y_val_pred)\n",
        "\n",
        "    if val_acc>best_val_acc:\n",
        "      best_C = c\n",
        "      best_fi = fi\n",
        "      best_train_acc = train_acc\n",
        "      best_val_acc = val_acc\n",
        "print(f\"Found the best model with C:{best_C}\\tFit Intercept:{best_fi}\")\n",
        "print(f\"Best training acc:{best_train_acc}\\tBest val acc:{best_val_acc}\")\n"
      ],
      "execution_count": null,
      "outputs": [
        {
          "output_type": "stream",
          "name": "stdout",
          "text": [
            "Found the best model with C:1\tFit Intercept:True\n",
            "Best training acc:0.8714285714285714\tBest val acc:0.75\n"
          ]
        }
      ]
    },
    {
      "cell_type": "markdown",
      "metadata": {
        "id": "4hfh8A6gLbWW"
      },
      "source": [
        "We don't get much improvement, We don't get much improvement, these are the same parameter values of the \"defaul\" Logistic Regression model. Don't worry about it, it just a toy-sh dataset. During the next weeks we are going to see more realistic tasks where a proper parameter selection can make the difference."
      ]
    },
    {
      "cell_type": "markdown",
      "metadata": {
        "id": "9NcUoUqSlGmV"
      },
      "source": [
        "# Ex 2.3 Grid Search Cross-Validation\n",
        "\n",
        "In the previous exercise, we implemented a grid search manually. <br>\n",
        "The more hyper-parameters, the harder to implement. <br>\n",
        "Scikit-learn eases our pain, and it offers a grid-search cross-validation function that does everything for us! <a href=\"https://scikit-learn.org/stable/modules/generated/sklearn.model_selection.GridSearchCV.html\"> [link]</a>.<br>\n",
        "We now see together an example of grid-search implementation."
      ]
    },
    {
      "cell_type": "code",
      "metadata": {
        "id": "2bwxkeSVmq0z"
      },
      "source": [
        "from sklearn.model_selection import GridSearchCV #import the library"
      ],
      "execution_count": null,
      "outputs": []
    },
    {
      "cell_type": "markdown",
      "metadata": {
        "id": "7DjUPAiGmx0h"
      },
      "source": [
        "The first thing to do is to define a dictionary containing the hyper-parameters with the range of values we want to search on."
      ]
    },
    {
      "cell_type": "code",
      "metadata": {
        "id": "gyvBfn1omwSS"
      },
      "source": [
        "param_grid_test = {\n",
        "    'C': [0.1, 0.5, 1, 5, 10, 15, 20],\n",
        "    'fit_intercept': [True, False]\n",
        "}"
      ],
      "execution_count": null,
      "outputs": []
    },
    {
      "cell_type": "markdown",
      "metadata": {
        "id": "Lw21-uMJncqa"
      },
      "source": [
        "Then, we create the grid-search object."
      ]
    },
    {
      "cell_type": "code",
      "metadata": {
        "id": "2RghpaQtnhzw"
      },
      "source": [
        "#target classifier\n",
        "lr = LogisticRegression()\n",
        "\n",
        "#grid-search object\n",
        "clf = GridSearchCV(estimator= lr, param_grid=param_grid_test,\n",
        "                   cv = 5, scoring = \"accuracy\")"
      ],
      "execution_count": null,
      "outputs": []
    },
    {
      "cell_type": "markdown",
      "metadata": {
        "id": "W5Ijn5msnw4o"
      },
      "source": [
        "Finally, we can find the best model. <br>\n",
        "Note that the tool already refit the best fund model in the entire dataset (i.e., train and validation). <br>\n",
        "This is a default parameter of the grid-search CV (see the documentation).\n"
      ]
    },
    {
      "cell_type": "code",
      "metadata": {
        "id": "1SrEmPuynwX4",
        "colab": {
          "base_uri": "https://localhost:8080/"
        },
        "outputId": "aa1a0c56-351b-4dea-e9dc-97c9b77a7f9a"
      },
      "source": [
        "#fit the model\n",
        "clf.fit(X_toy, y_toy) #we do not use the train - validation split strategy since it is included in the CV procedure\n",
        "\n",
        "#see the best parameters and performance\n",
        "print(clf.best_params_)\n",
        "print(clf.best_score_)\n"
      ],
      "execution_count": null,
      "outputs": [
        {
          "output_type": "stream",
          "name": "stdout",
          "text": [
            "{'C': 0.1, 'fit_intercept': True}\n",
            "1.0\n"
          ]
        }
      ]
    },
    {
      "cell_type": "markdown",
      "metadata": {
        "id": "vsDxM9Jopk2V"
      },
      "source": [
        "**Ex 2.3.1** Now it is your time. Implement a grid-search CV with 10 fold for the *sonar* dataset."
      ]
    },
    {
      "cell_type": "code",
      "metadata": {
        "id": "1mHXEHrjpxCM",
        "colab": {
          "base_uri": "https://localhost:8080/"
        },
        "outputId": "1d026601-cd0c-428f-ffd7-89aff51d11af"
      },
      "source": [
        "#\n",
        "# Ex 2.3.1: complete here\n",
        "#\n",
        "param_grid = {\n",
        "    'C': [0.1, 0.5, 1, 5, 10, 15, 20],\n",
        "    'fit_intercept': [True, False]\n",
        "}\n",
        "#target classifier\n",
        "lr = LogisticRegression(max_iter=200)\n",
        "\n",
        "#grid-search object\n",
        "clf = GridSearchCV(estimator= lr, param_grid=param_grid_test,\n",
        "                   cv = 10, scoring = \"accuracy\")\n",
        "clf.fit(X_train_val, y_train_val) #we do not use the train - validation split strategy since it is included in the CV procedure\n",
        "\n",
        "#see the best parameters and performance\n",
        "print(clf.best_params_)\n",
        "print(clf.best_score_)"
      ],
      "execution_count": null,
      "outputs": [
        {
          "output_type": "stream",
          "name": "stdout",
          "text": [
            "{'C': 15, 'fit_intercept': False}\n",
            "0.7883333333333333\n"
          ]
        }
      ]
    },
    {
      "cell_type": "markdown",
      "source": [
        "you should see the following warning:\n",
        "\n",
        "    *ConvergenceWarning: lbfgs failed to converge (status=1): STOP: TOTAL NO. of ITERATIONS REACHED LIMIT*\n",
        "\n",
        "**Ex 2.3.2** Use the documentation to better understand the nature of the warning.\n",
        "\n",
        "To fix it, we can set the parameter max_iter=200 in the LogisticRegression. Re-execute the previous code with this new parameter.  "
      ],
      "metadata": {
        "id": "3AXFFmIROG3v"
      }
    },
    {
      "cell_type": "code",
      "source": [
        "#\n",
        "# Ex 2.3.2: complete here\n",
        "#"
      ],
      "metadata": {
        "id": "ufQ1K6BLOx_O"
      },
      "execution_count": null,
      "outputs": []
    },
    {
      "cell_type": "markdown",
      "metadata": {
        "id": "7Uo5APXyomcf"
      },
      "source": [
        "The grid-search cv returns a different Logistic Regression model, with $C=15$ and *fit_intercept=False*.  <br>\n",
        "\n",
        "**Ex 2.3.3** It's time to see this best model on the test set. Use the accuracy as evaluation metric."
      ]
    },
    {
      "cell_type": "code",
      "metadata": {
        "id": "zjlRf94sM55n",
        "colab": {
          "base_uri": "https://localhost:8080/"
        },
        "outputId": "29ac4fb9-63f9-40c2-a707-d793017fd2a2"
      },
      "source": [
        "#\n",
        "# Ex 2.3.3: complete here\n",
        "#\n",
        "y_test_pred = clf.predict(X_test)\n",
        "print(accuracy_score(y_test, y_test_pred))"
      ],
      "execution_count": null,
      "outputs": [
        {
          "output_type": "stream",
          "name": "stdout",
          "text": [
            "0.7884615384615384\n"
          ]
        }
      ]
    },
    {
      "cell_type": "markdown",
      "source": [
        "# Ex 2.4: Homemade perceptron\n",
        "\n",
        "Using already made libraries is nice, they save us a lot of time!\n",
        "However, it is always interesting to understand their underlying mechanisms.\n",
        "\n",
        "In this exercise, we try to implement a perceptron using only *numpy*."
      ],
      "metadata": {
        "id": "Eu_mQdepPF_Q"
      }
    },
    {
      "cell_type": "code",
      "source": [
        "import matplotlib.pyplot as plt\n",
        "from sklearn import datasets\n",
        "\n",
        "#let's build a custom dataset\n",
        "X, y = datasets.make_blobs(n_samples=150,n_features=2,\n",
        "                           centers=2,cluster_std=1.05,\n",
        "                           random_state=123)\n",
        "print(y)"
      ],
      "metadata": {
        "id": "5lLp7aPRPI96",
        "colab": {
          "base_uri": "https://localhost:8080/"
        },
        "outputId": "01009a70-4ad5-4c7c-aecf-2475528e56e1"
      },
      "execution_count": null,
      "outputs": [
        {
          "output_type": "stream",
          "name": "stdout",
          "text": [
            "[0 1 0 0 1 0 1 0 1 1 0 1 1 0 0 0 0 0 0 1 0 1 0 0 1 1 1 0 0 0 0 1 0 1 1 0 0\n",
            " 1 1 0 0 0 0 1 0 1 1 0 1 1 1 1 1 1 1 1 0 0 0 1 1 1 1 0 1 1 1 0 0 1 1 0 1 0\n",
            " 0 0 0 0 0 0 1 0 1 0 1 0 1 0 1 1 0 0 0 0 0 1 1 0 1 0 0 1 1 0 1 0 1 0 0 1 0\n",
            " 0 1 0 0 0 0 0 1 1 0 1 1 0 1 1 1 1 1 1 0 1 0 1 0 1 0 1 0 1 1 0 0 1 1 1 0 1\n",
            " 1 1]\n"
          ]
        }
      ]
    },
    {
      "cell_type": "markdown",
      "source": [
        "As you can see, $y$ labels are $0$ or $1$. Let's turn the zeros into $-1$ to get us into the setting we saw in class\n",
        "\n",
        "**EX 2.4.1** Modify the $y$ vector such that the labels are $\\{-1,  1\\}$ instead of $\\{0, 1\\}$."
      ],
      "metadata": {
        "id": "ccgbgNC0P5TH"
      }
    },
    {
      "cell_type": "code",
      "source": [
        "#\n",
        "# Ex 2.4.1: complete here\n",
        "#\n",
        "y[y==0]=-1\n",
        "print(y)"
      ],
      "metadata": {
        "id": "BJfJKo-MQDv-",
        "colab": {
          "base_uri": "https://localhost:8080/"
        },
        "outputId": "6ba90e93-fc68-41f5-a5c7-d7410b3cb0bf"
      },
      "execution_count": null,
      "outputs": [
        {
          "output_type": "stream",
          "name": "stdout",
          "text": [
            "[-1  1 -1 -1  1 -1  1 -1  1  1 -1  1  1 -1 -1 -1 -1 -1 -1  1 -1  1 -1 -1\n",
            "  1  1  1 -1 -1 -1 -1  1 -1  1  1 -1 -1  1  1 -1 -1 -1 -1  1 -1  1  1 -1\n",
            "  1  1  1  1  1  1  1  1 -1 -1 -1  1  1  1  1 -1  1  1  1 -1 -1  1  1 -1\n",
            "  1 -1 -1 -1 -1 -1 -1 -1  1 -1  1 -1  1 -1  1 -1  1  1 -1 -1 -1 -1 -1  1\n",
            "  1 -1  1 -1 -1  1  1 -1  1 -1  1 -1 -1  1 -1 -1  1 -1 -1 -1 -1 -1  1  1\n",
            " -1  1  1 -1  1  1  1  1  1  1 -1  1 -1  1 -1  1 -1  1 -1  1  1 -1 -1  1\n",
            "  1  1 -1  1  1  1]\n"
          ]
        }
      ]
    },
    {
      "cell_type": "markdown",
      "source": [
        "We also plot what the data look like; in particular, we can see two different colours, one per class."
      ],
      "metadata": {
        "id": "_1H6DvQwQK-c"
      }
    },
    {
      "cell_type": "code",
      "source": [
        "#Plotting\n",
        "fig = plt.figure(figsize=(10,8))\n",
        "plt.plot(X[:, 0][y == -1], X[:, 1][y == -1], 'r^')\n",
        "plt.plot(X[:, 0][y == 1], X[:, 1][y == 1], 'bs')\n",
        "plt.xlabel(\"X1\")\n",
        "plt.ylabel(\"X2\")\n",
        "plt.title('Random Classification Data with 2 classes')"
      ],
      "metadata": {
        "id": "VkDhE4OgQKKV",
        "colab": {
          "base_uri": "https://localhost:8080/",
          "height": 735
        },
        "outputId": "d4162047-38e6-494c-d3a5-0ef5f10fb467"
      },
      "execution_count": null,
      "outputs": [
        {
          "output_type": "execute_result",
          "data": {
            "text/plain": [
              "Text(0.5, 1.0, 'Random Classification Data with 2 classes')"
            ]
          },
          "metadata": {},
          "execution_count": 58
        },
        {
          "output_type": "display_data",
          "data": {
            "text/plain": [
              "<Figure size 1000x800 with 1 Axes>"
            ],
            "image/png": "[encoded data removed]"
          },
          "metadata": {}
        }
      ]
    },
    {
      "cell_type": "markdown",
      "source": [
        "Let's start to solve our exercise. <br>\n",
        "\n",
        "**EX 2.4.2** create two variables $m,n$ that represent the number of examples and the number of features, respectively. Get those values from $X$.\n"
      ],
      "metadata": {
        "id": "IlGf1OYQQTTe"
      }
    },
    {
      "cell_type": "code",
      "source": [
        "#\n",
        "# Ex 2.4.2: complete here\n",
        "#\n",
        "m,n = X.shape\n",
        "print(m,n)\n"
      ],
      "metadata": {
        "id": "SqfenOW-Qqc_",
        "colab": {
          "base_uri": "https://localhost:8080/"
        },
        "outputId": "ab06de74-fd39-4b46-8b6c-c8285b487da4"
      },
      "execution_count": null,
      "outputs": [
        {
          "output_type": "stream",
          "name": "stdout",
          "text": [
            "150 2\n"
          ]
        }
      ]
    },
    {
      "cell_type": "markdown",
      "source": [
        "We now create a numpy array $\\theta$ that contains the parameters of our perceptron. <br>\n",
        "\n",
        "**EX 2.4.3** Create a numpy array *theta* filled with zero values (you should be able to determine the correct size). <br>\n"
      ],
      "metadata": {
        "id": "irc8mcuEQxRc"
      }
    },
    {
      "cell_type": "code",
      "source": [
        "#\n",
        "# Ex 2.4.3: complete the solution here\n",
        "#\n",
        "theta =np.zeros((n+1,1))\n",
        "print(theta,theta.shape)\n"
      ],
      "metadata": {
        "id": "DmR9BAdiRCCr",
        "colab": {
          "base_uri": "https://localhost:8080/"
        },
        "outputId": "e3aa694b-d77a-4876-ef50-39516bf2800b"
      },
      "execution_count": null,
      "outputs": [
        {
          "output_type": "stream",
          "name": "stdout",
          "text": [
            "[[0.]\n",
            " [0.]\n",
            " [0.]] (3, 1)\n"
          ]
        }
      ]
    },
    {
      "cell_type": "markdown",
      "source": [
        "Add the *bias* vector to $X$ as well: <br>\n",
        "**EX 2.4.4** create a new matrix $X_{mat}$ $(m , 3)$, where the first column is set to $1$, the second and third are our $X$."
      ],
      "metadata": {
        "id": "x4Yj8X4ARM-M"
      }
    },
    {
      "cell_type": "code",
      "source": [
        "#\n",
        "# Ex 2.4.4: complete the solution here\n",
        "#\n",
        "# X_mat =\n",
        "print(X[:5, :])\n",
        "X_mat = np.hstack((np.ones((m, 1)), X))\n",
        "print(X_mat[:5, :])"
      ],
      "metadata": {
        "id": "dCYfcVplRQuz",
        "colab": {
          "base_uri": "https://localhost:8080/"
        },
        "outputId": "a26462a4-1c58-4f47-991c-b035c120ef29"
      },
      "execution_count": null,
      "outputs": [
        {
          "output_type": "stream",
          "name": "stdout",
          "text": [
            "[[ 6.12085274 -4.10455001]\n",
            " [-5.25340971  0.89387172]\n",
            " [ 4.60354114 -6.35399563]\n",
            " [ 2.48988782 -4.62631234]\n",
            " [-5.25610105 -2.36631238]]\n",
            "[[ 1.          6.12085274 -4.10455001]\n",
            " [ 1.         -5.25340971  0.89387172]\n",
            " [ 1.          4.60354114 -6.35399563]\n",
            " [ 1.          2.48988782 -4.62631234]\n",
            " [ 1.         -5.25610105 -2.36631238]]\n"
          ]
        }
      ]
    },
    {
      "cell_type": "markdown",
      "source": [
        "It's time to train! <br>\n",
        "**EX 2.4.5** Write a function called *perceptron_v1* that, given $X_{mat}$, $y$ and $\\theta$, updates $\\theta$ using the **perceptron** algorithm we saw in class during one of the previous lectures. <br>\n",
        "**Bonus**: we say that one algorithm has run for an epoch once it has seen (considered) all the examples in the training set once. Add a parameter  *max_epochs* to perceptron\\_v1 which stops the perceptron if it has not converged (made no error on the training set) after *max_epochs* epochs.  \n",
        "The function returns the updated $\\theta$ vector, and the number of epochs it has been executed.\n",
        "\n",
        "    #Example of how to return multiple variables\n",
        "    def example(a, b):\n",
        "        c = a + b\n",
        "        d = a * b\n",
        "        e = a / b\n",
        "        f = a - b\n",
        "        return c, d, e, f\n",
        "    \n",
        "    c, d, e, f = example(1, 2)\n"
      ],
      "metadata": {
        "id": "Bj7rFJ3GFnhF"
      }
    },
    {
      "cell_type": "code",
      "source": [
        "#\n",
        "# Ex 2.4.5: complete the solution here\n",
        "#print(X[:5, :])\n",
        "def perceptron_v1(X_mat, y, theta, max_epochs):\n",
        "\n",
        "  m = X_mat.shape[0] # number of examples in the training set\n",
        "  num_epochs = 0\n",
        "  num_errors = 1\n",
        "  while num_epochs <= max_epochs and num_errors > 0: # we keep iterating over the data until\n",
        "                                                       # we make no mistake or we reach the maximum number of iterations\n",
        "    num_epochs = num_epochs + 1\n",
        "    num_errors = 0\n",
        "    for i in range(m):\n",
        "      #get the current sample\n",
        "      X_i = X_mat[i, :].reshape(1, 3)# @ (3, 1) = (1, 1) ~ real value\n",
        "      y_i = y[i]\n",
        "      y_hat = X_i.dot(theta)\n",
        "      #predict the label of the ith-example\n",
        "      if y_hat * y_i <= 0:\n",
        "        theta += y_i*X_i.T # the prediction is wrong, we update the theta\n",
        "        num_errors = num_errors + 1\n",
        "  return theta, num_epochs\n",
        "\n",
        "\n",
        "\n",
        "theta, num_epochs = perceptron_v1(X_mat, y, theta, 30)\n",
        "print(theta)\n",
        "\n"
      ],
      "metadata": {
        "id": "fBWQINanFssT",
        "colab": {
          "base_uri": "https://localhost:8080/"
        },
        "outputId": "d74af8bb-3987-46fc-9307-438885bb20f0"
      },
      "execution_count": null,
      "outputs": [
        {
          "output_type": "stream",
          "name": "stdout",
          "text": [
            "[[-1.        ]\n",
            " [-6.12085274]\n",
            " [ 4.10455001]]\n"
          ]
        }
      ]
    },
    {
      "cell_type": "markdown",
      "source": [
        "Now write a function _perceptron_predict_ that computes the predictions of a trained Perceptron on a dataset, returning a vector (list) of {-1,1} values. The parameters of the function are the dataset and the theta values.\n",
        "Finally, apply _perceptron_predict_ to (X_mat, theta):\n",
        "```\n",
        "y_pred = perceptron_predict(X_mat, theta)\n",
        "```"
      ],
      "metadata": {
        "id": "Rgd-ykrpMdrq"
      }
    },
    {
      "cell_type": "code",
      "source": [
        "#\n",
        "# Ex 2.4.5 part 2: complete the solution here\n",
        "#\n",
        "def perceptron_predict(X_mat, theta):\n",
        "  y_pred = []\n",
        "  for i in range(X_mat.shape[0]):\n",
        "    score = X_mat[i,:].dot(theta)\n",
        "    if score>0:\n",
        "      y_pred.append(1)\n",
        "    else:\n",
        "      y_pred.append(-1)\n",
        "  return y_pred\n",
        "\n",
        "\n",
        "def perceptron_predict_v2(X_mat, theta): # this version uses matrix notation\n",
        "  y_pred = X_mat.dot(theta)\n",
        "  y_pred[y_pred>0] = 1\n",
        "  y_pred[y_pred<=0] = -1\n",
        "  return y_pred.flatten() # numpy treats differently matrices of dimension (n,1) and vectors of size n;\n",
        "                          # here y_pred is a matrix - if you type y_pred.shape before applying flatten you get (150,1) -  but\n",
        "                          # we want to convert it to a vector - if you type y_pred.shape after flatten you get (150,) -\n",
        "                          # because we will compare to another vector, y, to compute the accuracy of the perceptron.\n",
        "\n",
        "y_pred = perceptron_predict(X_mat, theta)\n"
      ],
      "metadata": {
        "id": "O4JXdFP8TZBe"
      },
      "execution_count": null,
      "outputs": []
    },
    {
      "cell_type": "markdown",
      "source": [
        "**EX 2.4.6** Define a function called *accuracy_score* that, given the ground truth and a vector of predictions, it returns the accuracy score. <br>\n",
        "We define the accuracy as the number of correct predictions, divided by the total number of predictions. <br>\n",
        "Calculate the accuracy score of the previous perceptron execution."
      ],
      "metadata": {
        "id": "cR70ZPWzR-DB"
      }
    },
    {
      "cell_type": "code",
      "source": [
        "#\n",
        "# Ex 2.4.6: complete the solution here\n",
        "#\n",
        "\n",
        "# Expected output of the command\n",
        "# print(accuracy_score(y, y_pred))\n",
        "def accuracy_score(y_true, y_pred):\n",
        "    return np.sum(y_true == y_pred) / len(y_true)\n",
        "\n",
        "print(accuracy_score(y,y_pred))\n"
      ],
      "metadata": {
        "id": "6YEKGwnBRz1_",
        "colab": {
          "base_uri": "https://localhost:8080/"
        },
        "outputId": "380febbb-0059-49e0-b403-fb9409099c47"
      },
      "execution_count": null,
      "outputs": [
        {
          "output_type": "stream",
          "name": "stdout",
          "text": [
            "1.0\n"
          ]
        }
      ]
    },
    {
      "cell_type": "markdown",
      "source": [
        "Good job! We can finally plot the decision boundary obtained so far."
      ],
      "metadata": {
        "id": "qVX6QoCgSTER"
      }
    },
    {
      "cell_type": "code",
      "source": [
        "#Plotting\n",
        "fig = plt.figure(figsize=(10,8))\n",
        "plt.plot(X[:, 0][y == -1], X[:, 1][y == -1], 'r^')\n",
        "plt.plot(X[:, 0][y == 1], X[:, 1][y == 1], 'bs')\n",
        "plt.xlabel(\"X1\")\n",
        "plt.ylabel(\"X2\")\n",
        "plt.title('Random Classification Data with 2 classes')\n",
        "\n",
        "# ADD THE DECISION BOUNDARY\n",
        "# The Line is y=mx+c\n",
        "x1 = np.array([min(X[:,0]), max(X[:,0])])\n",
        "m = -theta[1]/theta[2]\n",
        "c = -theta[0]/theta[2]\n",
        "x2 = m * x1 + c\n",
        "plt.plot(x1, x2, 'y-')"
      ],
      "metadata": {
        "id": "tQWEokTbST7z",
        "colab": {
          "base_uri": "https://localhost:8080/",
          "height": 735
        },
        "outputId": "b0fd76bc-1b30-4898-da89-f4bb95cac7d3"
      },
      "execution_count": null,
      "outputs": [
        {
          "output_type": "execute_result",
          "data": {
            "text/plain": [
              "[<matplotlib.lines.Line2D at 0x7f1600559c30>]"
            ]
          },
          "metadata": {},
          "execution_count": 67
        },
        {
          "output_type": "display_data",
          "data": {
            "text/plain": [
              "<Figure size 1000x800 with 1 Axes>"
            ],
            "image/png": "[encoded data removed]"
          },
          "metadata": {}
        }
      ]
    },
    {
      "cell_type": "code",
      "source": [],
      "metadata": {
        "id": "oMg5Jm6bpCrF"
      },
      "execution_count": null,
      "outputs": []
    }
  ]
}